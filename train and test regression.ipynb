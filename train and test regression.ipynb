{
 "cells": [
  {
   "cell_type": "code",
   "execution_count": 1,
   "metadata": {},
   "outputs": [],
   "source": [
    "import pandas as pd\n",
    "import numpy as np\n",
    "import matplotlib.pyplot as plt\n",
    "import seaborn as sns\n"
   ]
  },
  {
   "cell_type": "code",
   "execution_count": 2,
   "metadata": {},
   "outputs": [
    {
     "data": {
      "text/html": [
       "<div>\n",
       "<style scoped>\n",
       "    .dataframe tbody tr th:only-of-type {\n",
       "        vertical-align: middle;\n",
       "    }\n",
       "\n",
       "    .dataframe tbody tr th {\n",
       "        vertical-align: top;\n",
       "    }\n",
       "\n",
       "    .dataframe thead th {\n",
       "        text-align: right;\n",
       "    }\n",
       "</style>\n",
       "<table border=\"1\" class=\"dataframe\">\n",
       "  <thead>\n",
       "    <tr style=\"text-align: right;\">\n",
       "      <th></th>\n",
       "      <th>data1</th>\n",
       "      <th>data2</th>\n",
       "      <th>data3</th>\n",
       "      <th>data4</th>\n",
       "      <th>data5</th>\n",
       "      <th>data6</th>\n",
       "      <th>data7</th>\n",
       "      <th>data8</th>\n",
       "      <th>data9</th>\n",
       "      <th>data10</th>\n",
       "      <th>output</th>\n",
       "    </tr>\n",
       "  </thead>\n",
       "  <tbody>\n",
       "    <tr>\n",
       "      <th>0</th>\n",
       "      <td>8</td>\n",
       "      <td>279</td>\n",
       "      <td>C</td>\n",
       "      <td>14.451155</td>\n",
       "      <td>1139.0</td>\n",
       "      <td>1.0</td>\n",
       "      <td>9.302908</td>\n",
       "      <td>1.0</td>\n",
       "      <td>M</td>\n",
       "      <td>p</td>\n",
       "      <td>86.108947</td>\n",
       "    </tr>\n",
       "    <tr>\n",
       "      <th>1</th>\n",
       "      <td>1</td>\n",
       "      <td>108</td>\n",
       "      <td>H</td>\n",
       "      <td>14.207448</td>\n",
       "      <td>1656.0</td>\n",
       "      <td>1.0</td>\n",
       "      <td>7.220130</td>\n",
       "      <td>0.0</td>\n",
       "      <td>M</td>\n",
       "      <td>p</td>\n",
       "      <td>42.606833</td>\n",
       "    </tr>\n",
       "    <tr>\n",
       "      <th>2</th>\n",
       "      <td>8</td>\n",
       "      <td>258</td>\n",
       "      <td>A</td>\n",
       "      <td>19.220830</td>\n",
       "      <td>2817.0</td>\n",
       "      <td>1.0</td>\n",
       "      <td>8.727214</td>\n",
       "      <td>1.0</td>\n",
       "      <td>M</td>\n",
       "      <td>p</td>\n",
       "      <td>85.625961</td>\n",
       "    </tr>\n",
       "    <tr>\n",
       "      <th>3</th>\n",
       "      <td>4</td>\n",
       "      <td>147</td>\n",
       "      <td>A</td>\n",
       "      <td>15.752732</td>\n",
       "      <td>1948.0</td>\n",
       "      <td>1.0</td>\n",
       "      <td>6.078818</td>\n",
       "      <td>1.0</td>\n",
       "      <td>M</td>\n",
       "      <td>p</td>\n",
       "      <td>53.656277</td>\n",
       "    </tr>\n",
       "    <tr>\n",
       "      <th>4</th>\n",
       "      <td>5</td>\n",
       "      <td>230</td>\n",
       "      <td>H</td>\n",
       "      <td>10.195407</td>\n",
       "      <td>1336.0</td>\n",
       "      <td>1.0</td>\n",
       "      <td>4.749185</td>\n",
       "      <td>0.0</td>\n",
       "      <td>M</td>\n",
       "      <td>p</td>\n",
       "      <td>64.925051</td>\n",
       "    </tr>\n",
       "    <tr>\n",
       "      <th>...</th>\n",
       "      <td>...</td>\n",
       "      <td>...</td>\n",
       "      <td>...</td>\n",
       "      <td>...</td>\n",
       "      <td>...</td>\n",
       "      <td>...</td>\n",
       "      <td>...</td>\n",
       "      <td>...</td>\n",
       "      <td>...</td>\n",
       "      <td>...</td>\n",
       "      <td>...</td>\n",
       "    </tr>\n",
       "    <tr>\n",
       "      <th>9995</th>\n",
       "      <td>9</td>\n",
       "      <td>263</td>\n",
       "      <td>A</td>\n",
       "      <td>16.604215</td>\n",
       "      <td>1070.0</td>\n",
       "      <td>0.0</td>\n",
       "      <td>8.979149</td>\n",
       "      <td>2.0</td>\n",
       "      <td>F</td>\n",
       "      <td>p</td>\n",
       "      <td>85.922943</td>\n",
       "    </tr>\n",
       "    <tr>\n",
       "      <th>9996</th>\n",
       "      <td>5</td>\n",
       "      <td>280</td>\n",
       "      <td>E</td>\n",
       "      <td>28.758911</td>\n",
       "      <td>2652.0</td>\n",
       "      <td>0.0</td>\n",
       "      <td>3.574129</td>\n",
       "      <td>0.0</td>\n",
       "      <td>F</td>\n",
       "      <td>p</td>\n",
       "      <td>90.857149</td>\n",
       "    </tr>\n",
       "    <tr>\n",
       "      <th>9997</th>\n",
       "      <td>6</td>\n",
       "      <td>188</td>\n",
       "      <td>D</td>\n",
       "      <td>15.963267</td>\n",
       "      <td>1359.0</td>\n",
       "      <td>0.0</td>\n",
       "      <td>2.880019</td>\n",
       "      <td>0.0</td>\n",
       "      <td>F</td>\n",
       "      <td>p</td>\n",
       "      <td>61.246960</td>\n",
       "    </tr>\n",
       "    <tr>\n",
       "      <th>9998</th>\n",
       "      <td>1</td>\n",
       "      <td>132</td>\n",
       "      <td>H</td>\n",
       "      <td>11.683401</td>\n",
       "      <td>1793.0</td>\n",
       "      <td>0.0</td>\n",
       "      <td>6.983192</td>\n",
       "      <td>2.0</td>\n",
       "      <td>F</td>\n",
       "      <td>p</td>\n",
       "      <td>45.298253</td>\n",
       "    </tr>\n",
       "    <tr>\n",
       "      <th>9999</th>\n",
       "      <td>5</td>\n",
       "      <td>264</td>\n",
       "      <td>A</td>\n",
       "      <td>21.176115</td>\n",
       "      <td>1792.0</td>\n",
       "      <td>0.0</td>\n",
       "      <td>8.276101</td>\n",
       "      <td>2.0</td>\n",
       "      <td>F</td>\n",
       "      <td>p</td>\n",
       "      <td>85.534604</td>\n",
       "    </tr>\n",
       "  </tbody>\n",
       "</table>\n",
       "<p>10000 rows × 11 columns</p>\n",
       "</div>"
      ],
      "text/plain": [
       "      data1  data2 data3      data4   data5  data6     data7  data8 data9  \\\n",
       "0         8    279     C  14.451155  1139.0    1.0  9.302908    1.0     M   \n",
       "1         1    108     H  14.207448  1656.0    1.0  7.220130    0.0     M   \n",
       "2         8    258     A  19.220830  2817.0    1.0  8.727214    1.0     M   \n",
       "3         4    147     A  15.752732  1948.0    1.0  6.078818    1.0     M   \n",
       "4         5    230     H  10.195407  1336.0    1.0  4.749185    0.0     M   \n",
       "...     ...    ...   ...        ...     ...    ...       ...    ...   ...   \n",
       "9995      9    263     A  16.604215  1070.0    0.0  8.979149    2.0     F   \n",
       "9996      5    280     E  28.758911  2652.0    0.0  3.574129    0.0     F   \n",
       "9997      6    188     D  15.963267  1359.0    0.0  2.880019    0.0     F   \n",
       "9998      1    132     H  11.683401  1793.0    0.0  6.983192    2.0     F   \n",
       "9999      5    264     A  21.176115  1792.0    0.0  8.276101    2.0     F   \n",
       "\n",
       "     data10     output  \n",
       "0         p  86.108947  \n",
       "1         p  42.606833  \n",
       "2         p  85.625961  \n",
       "3         p  53.656277  \n",
       "4         p  64.925051  \n",
       "...     ...        ...  \n",
       "9995      p  85.922943  \n",
       "9996      p  90.857149  \n",
       "9997      p  61.246960  \n",
       "9998      p  45.298253  \n",
       "9999      p  85.534604  \n",
       "\n",
       "[10000 rows x 11 columns]"
      ]
     },
     "execution_count": 2,
     "metadata": {},
     "output_type": "execute_result"
    }
   ],
   "source": [
    "#importing data\n",
    "lrtr = pd.read_csv(r'C:\\Users\\sripu\\OneDrive\\Desktop\\regression_train.csv')\n",
    "lrtr"
   ]
  },
  {
   "cell_type": "code",
   "execution_count": 3,
   "metadata": {},
   "outputs": [
    {
     "data": {
      "text/plain": [
       "(10000, 11)"
      ]
     },
     "execution_count": 3,
     "metadata": {},
     "output_type": "execute_result"
    }
   ],
   "source": [
    "#rows and colums\n",
    "lrtr.shape"
   ]
  },
  {
   "cell_type": "code",
   "execution_count": 4,
   "metadata": {},
   "outputs": [
    {
     "data": {
      "text/plain": [
       "Index(['data1', 'data2', 'data3', 'data4', 'data5', 'data6', 'data7', 'data8',\n",
       "       'data9', 'data10', 'output'],\n",
       "      dtype='object')"
      ]
     },
     "execution_count": 4,
     "metadata": {},
     "output_type": "execute_result"
    }
   ],
   "source": [
    "lrtr.columns"
   ]
  },
  {
   "cell_type": "code",
   "execution_count": 5,
   "metadata": {},
   "outputs": [
    {
     "name": "stdout",
     "output_type": "stream",
     "text": [
      "<class 'pandas.core.frame.DataFrame'>\n",
      "RangeIndex: 10000 entries, 0 to 9999\n",
      "Data columns (total 11 columns):\n",
      " #   Column  Non-Null Count  Dtype  \n",
      "---  ------  --------------  -----  \n",
      " 0   data1   10000 non-null  int64  \n",
      " 1   data2   10000 non-null  int64  \n",
      " 2   data3   10000 non-null  object \n",
      " 3   data4   10000 non-null  float64\n",
      " 4   data5   9999 non-null   float64\n",
      " 5   data6   9997 non-null   float64\n",
      " 6   data7   9998 non-null   float64\n",
      " 7   data8   9999 non-null   float64\n",
      " 8   data9   9999 non-null   object \n",
      " 9   data10  9999 non-null   object \n",
      " 10  output  9999 non-null   float64\n",
      "dtypes: float64(6), int64(2), object(3)\n",
      "memory usage: 742.2+ KB\n"
     ]
    }
   ],
   "source": [
    "#check info\n",
    "lrtr.info()"
   ]
  },
  {
   "cell_type": "code",
   "execution_count": 6,
   "metadata": {},
   "outputs": [
    {
     "name": "stdout",
     "output_type": "stream",
     "text": [
      "{nan, 'p'}\n"
     ]
    }
   ],
   "source": [
    "print(set(lrtr['data10']))"
   ]
  },
  {
   "cell_type": "code",
   "execution_count": 7,
   "metadata": {},
   "outputs": [],
   "source": [
    "lrtr.drop('data10', axis = 1, inplace = True)"
   ]
  },
  {
   "cell_type": "code",
   "execution_count": 8,
   "metadata": {},
   "outputs": [
    {
     "name": "stdout",
     "output_type": "stream",
     "text": [
      "(10000, 10) \n",
      "\n",
      "Index(['data1', 'data2', 'data3', 'data4', 'data5', 'data6', 'data7', 'data8',\n",
      "       'data9', 'output'],\n",
      "      dtype='object')\n"
     ]
    }
   ],
   "source": [
    "print(lrtr.shape,'\\n')\n",
    "print(lrtr.columns)"
   ]
  },
  {
   "cell_type": "code",
   "execution_count": 9,
   "metadata": {},
   "outputs": [
    {
     "name": "stdout",
     "output_type": "stream",
     "text": [
      "{'D', 'G', 'B', 'E', 'A', 'H', 'F', 'C'}\n"
     ]
    }
   ],
   "source": [
    "print(set(lrtr['data3']))"
   ]
  },
  {
   "cell_type": "code",
   "execution_count": 10,
   "metadata": {},
   "outputs": [],
   "source": [
    "#categorical to numaerical\n",
    "lrtr.data3 = pd.Categorical(lrtr.data3,['F', 'G', 'E', 'B', 'D', 'C', 'H', 'A'], ordered = True)"
   ]
  },
  {
   "cell_type": "code",
   "execution_count": 11,
   "metadata": {},
   "outputs": [
    {
     "name": "stdout",
     "output_type": "stream",
     "text": [
      "0       C\n",
      "1       H\n",
      "2       A\n",
      "3       A\n",
      "4       H\n",
      "       ..\n",
      "9995    A\n",
      "9996    E\n",
      "9997    D\n",
      "9998    H\n",
      "9999    A\n",
      "Name: data3, Length: 10000, dtype: category\n",
      "Categories (8, object): [F < G < E < B < D < C < H < A]\n"
     ]
    }
   ],
   "source": [
    "print(lrtr.data3)"
   ]
  },
  {
   "cell_type": "code",
   "execution_count": 12,
   "metadata": {},
   "outputs": [],
   "source": [
    "lrtr.data3 = lrtr.data3.cat.codes"
   ]
  },
  {
   "cell_type": "code",
   "execution_count": 13,
   "metadata": {},
   "outputs": [
    {
     "data": {
      "text/plain": [
       "0       5\n",
       "1       6\n",
       "2       7\n",
       "3       7\n",
       "4       6\n",
       "       ..\n",
       "9995    7\n",
       "9996    2\n",
       "9997    4\n",
       "9998    6\n",
       "9999    7\n",
       "Name: data3, Length: 10000, dtype: int8"
      ]
     },
     "execution_count": 13,
     "metadata": {},
     "output_type": "execute_result"
    }
   ],
   "source": [
    "lrtr['data3']"
   ]
  },
  {
   "cell_type": "code",
   "execution_count": 14,
   "metadata": {},
   "outputs": [
    {
     "name": "stdout",
     "output_type": "stream",
     "text": [
      "{0, 1, 2, 3, 4, 5, 6, 7}\n"
     ]
    }
   ],
   "source": [
    "#categorical to numaerical\n",
    "print(set(lrtr['data3']))"
   ]
  },
  {
   "cell_type": "code",
   "execution_count": 15,
   "metadata": {},
   "outputs": [],
   "source": [
    "lrtr.data9 = pd.Categorical(lrtr.data9,['M','F'])"
   ]
  },
  {
   "cell_type": "code",
   "execution_count": 16,
   "metadata": {},
   "outputs": [],
   "source": [
    "lrtr.data9 = lrtr.data9.cat.codes"
   ]
  },
  {
   "cell_type": "code",
   "execution_count": 17,
   "metadata": {},
   "outputs": [
    {
     "data": {
      "text/plain": [
       "0       0\n",
       "1       0\n",
       "2       0\n",
       "3       0\n",
       "4       0\n",
       "       ..\n",
       "9995    1\n",
       "9996    1\n",
       "9997    1\n",
       "9998    1\n",
       "9999    1\n",
       "Name: data9, Length: 10000, dtype: int8"
      ]
     },
     "execution_count": 17,
     "metadata": {},
     "output_type": "execute_result"
    }
   ],
   "source": [
    "lrtr['data9']"
   ]
  },
  {
   "cell_type": "code",
   "execution_count": 18,
   "metadata": {},
   "outputs": [
    {
     "data": {
      "text/html": [
       "<div>\n",
       "<style scoped>\n",
       "    .dataframe tbody tr th:only-of-type {\n",
       "        vertical-align: middle;\n",
       "    }\n",
       "\n",
       "    .dataframe tbody tr th {\n",
       "        vertical-align: top;\n",
       "    }\n",
       "\n",
       "    .dataframe thead th {\n",
       "        text-align: right;\n",
       "    }\n",
       "</style>\n",
       "<table border=\"1\" class=\"dataframe\">\n",
       "  <thead>\n",
       "    <tr style=\"text-align: right;\">\n",
       "      <th></th>\n",
       "      <th>data1</th>\n",
       "      <th>data2</th>\n",
       "      <th>data3</th>\n",
       "      <th>data4</th>\n",
       "      <th>data5</th>\n",
       "      <th>data6</th>\n",
       "      <th>data7</th>\n",
       "      <th>data8</th>\n",
       "      <th>data9</th>\n",
       "      <th>output</th>\n",
       "    </tr>\n",
       "  </thead>\n",
       "  <tbody>\n",
       "    <tr>\n",
       "      <th>0</th>\n",
       "      <td>8</td>\n",
       "      <td>279</td>\n",
       "      <td>5</td>\n",
       "      <td>14.451155</td>\n",
       "      <td>1139.0</td>\n",
       "      <td>1.0</td>\n",
       "      <td>9.302908</td>\n",
       "      <td>1.0</td>\n",
       "      <td>0</td>\n",
       "      <td>86.108947</td>\n",
       "    </tr>\n",
       "    <tr>\n",
       "      <th>1</th>\n",
       "      <td>1</td>\n",
       "      <td>108</td>\n",
       "      <td>6</td>\n",
       "      <td>14.207448</td>\n",
       "      <td>1656.0</td>\n",
       "      <td>1.0</td>\n",
       "      <td>7.220130</td>\n",
       "      <td>0.0</td>\n",
       "      <td>0</td>\n",
       "      <td>42.606833</td>\n",
       "    </tr>\n",
       "    <tr>\n",
       "      <th>2</th>\n",
       "      <td>8</td>\n",
       "      <td>258</td>\n",
       "      <td>7</td>\n",
       "      <td>19.220830</td>\n",
       "      <td>2817.0</td>\n",
       "      <td>1.0</td>\n",
       "      <td>8.727214</td>\n",
       "      <td>1.0</td>\n",
       "      <td>0</td>\n",
       "      <td>85.625961</td>\n",
       "    </tr>\n",
       "    <tr>\n",
       "      <th>3</th>\n",
       "      <td>4</td>\n",
       "      <td>147</td>\n",
       "      <td>7</td>\n",
       "      <td>15.752732</td>\n",
       "      <td>1948.0</td>\n",
       "      <td>1.0</td>\n",
       "      <td>6.078818</td>\n",
       "      <td>1.0</td>\n",
       "      <td>0</td>\n",
       "      <td>53.656277</td>\n",
       "    </tr>\n",
       "    <tr>\n",
       "      <th>4</th>\n",
       "      <td>5</td>\n",
       "      <td>230</td>\n",
       "      <td>6</td>\n",
       "      <td>10.195407</td>\n",
       "      <td>1336.0</td>\n",
       "      <td>1.0</td>\n",
       "      <td>4.749185</td>\n",
       "      <td>0.0</td>\n",
       "      <td>0</td>\n",
       "      <td>64.925051</td>\n",
       "    </tr>\n",
       "    <tr>\n",
       "      <th>...</th>\n",
       "      <td>...</td>\n",
       "      <td>...</td>\n",
       "      <td>...</td>\n",
       "      <td>...</td>\n",
       "      <td>...</td>\n",
       "      <td>...</td>\n",
       "      <td>...</td>\n",
       "      <td>...</td>\n",
       "      <td>...</td>\n",
       "      <td>...</td>\n",
       "    </tr>\n",
       "    <tr>\n",
       "      <th>9995</th>\n",
       "      <td>9</td>\n",
       "      <td>263</td>\n",
       "      <td>7</td>\n",
       "      <td>16.604215</td>\n",
       "      <td>1070.0</td>\n",
       "      <td>0.0</td>\n",
       "      <td>8.979149</td>\n",
       "      <td>2.0</td>\n",
       "      <td>1</td>\n",
       "      <td>85.922943</td>\n",
       "    </tr>\n",
       "    <tr>\n",
       "      <th>9996</th>\n",
       "      <td>5</td>\n",
       "      <td>280</td>\n",
       "      <td>2</td>\n",
       "      <td>28.758911</td>\n",
       "      <td>2652.0</td>\n",
       "      <td>0.0</td>\n",
       "      <td>3.574129</td>\n",
       "      <td>0.0</td>\n",
       "      <td>1</td>\n",
       "      <td>90.857149</td>\n",
       "    </tr>\n",
       "    <tr>\n",
       "      <th>9997</th>\n",
       "      <td>6</td>\n",
       "      <td>188</td>\n",
       "      <td>4</td>\n",
       "      <td>15.963267</td>\n",
       "      <td>1359.0</td>\n",
       "      <td>0.0</td>\n",
       "      <td>2.880019</td>\n",
       "      <td>0.0</td>\n",
       "      <td>1</td>\n",
       "      <td>61.246960</td>\n",
       "    </tr>\n",
       "    <tr>\n",
       "      <th>9998</th>\n",
       "      <td>1</td>\n",
       "      <td>132</td>\n",
       "      <td>6</td>\n",
       "      <td>11.683401</td>\n",
       "      <td>1793.0</td>\n",
       "      <td>0.0</td>\n",
       "      <td>6.983192</td>\n",
       "      <td>2.0</td>\n",
       "      <td>1</td>\n",
       "      <td>45.298253</td>\n",
       "    </tr>\n",
       "    <tr>\n",
       "      <th>9999</th>\n",
       "      <td>5</td>\n",
       "      <td>264</td>\n",
       "      <td>7</td>\n",
       "      <td>21.176115</td>\n",
       "      <td>1792.0</td>\n",
       "      <td>0.0</td>\n",
       "      <td>8.276101</td>\n",
       "      <td>2.0</td>\n",
       "      <td>1</td>\n",
       "      <td>85.534604</td>\n",
       "    </tr>\n",
       "  </tbody>\n",
       "</table>\n",
       "<p>10000 rows × 10 columns</p>\n",
       "</div>"
      ],
      "text/plain": [
       "      data1  data2  data3      data4   data5  data6     data7  data8  data9  \\\n",
       "0         8    279      5  14.451155  1139.0    1.0  9.302908    1.0      0   \n",
       "1         1    108      6  14.207448  1656.0    1.0  7.220130    0.0      0   \n",
       "2         8    258      7  19.220830  2817.0    1.0  8.727214    1.0      0   \n",
       "3         4    147      7  15.752732  1948.0    1.0  6.078818    1.0      0   \n",
       "4         5    230      6  10.195407  1336.0    1.0  4.749185    0.0      0   \n",
       "...     ...    ...    ...        ...     ...    ...       ...    ...    ...   \n",
       "9995      9    263      7  16.604215  1070.0    0.0  8.979149    2.0      1   \n",
       "9996      5    280      2  28.758911  2652.0    0.0  3.574129    0.0      1   \n",
       "9997      6    188      4  15.963267  1359.0    0.0  2.880019    0.0      1   \n",
       "9998      1    132      6  11.683401  1793.0    0.0  6.983192    2.0      1   \n",
       "9999      5    264      7  21.176115  1792.0    0.0  8.276101    2.0      1   \n",
       "\n",
       "         output  \n",
       "0     86.108947  \n",
       "1     42.606833  \n",
       "2     85.625961  \n",
       "3     53.656277  \n",
       "4     64.925051  \n",
       "...         ...  \n",
       "9995  85.922943  \n",
       "9996  90.857149  \n",
       "9997  61.246960  \n",
       "9998  45.298253  \n",
       "9999  85.534604  \n",
       "\n",
       "[10000 rows x 10 columns]"
      ]
     },
     "execution_count": 18,
     "metadata": {},
     "output_type": "execute_result"
    }
   ],
   "source": [
    "lrtr"
   ]
  },
  {
   "cell_type": "code",
   "execution_count": 19,
   "metadata": {},
   "outputs": [
    {
     "data": {
      "text/plain": [
       "data1     0\n",
       "data2     0\n",
       "data3     0\n",
       "data4     0\n",
       "data5     1\n",
       "data6     3\n",
       "data7     2\n",
       "data8     1\n",
       "data9     0\n",
       "output    1\n",
       "dtype: int64"
      ]
     },
     "execution_count": 19,
     "metadata": {},
     "output_type": "execute_result"
    }
   ],
   "source": [
    "lrtr.isnull().sum()"
   ]
  },
  {
   "cell_type": "code",
   "execution_count": 20,
   "metadata": {},
   "outputs": [
    {
     "data": {
      "text/plain": [
       "(10000, 10)"
      ]
     },
     "execution_count": 20,
     "metadata": {},
     "output_type": "execute_result"
    }
   ],
   "source": [
    "lrtr.shape"
   ]
  },
  {
   "cell_type": "code",
   "execution_count": 21,
   "metadata": {},
   "outputs": [],
   "source": [
    "lrtr.dropna(how = 'any', inplace = True)"
   ]
  },
  {
   "cell_type": "code",
   "execution_count": 22,
   "metadata": {},
   "outputs": [
    {
     "data": {
      "text/plain": [
       "data1     0\n",
       "data2     0\n",
       "data3     0\n",
       "data4     0\n",
       "data5     0\n",
       "data6     0\n",
       "data7     0\n",
       "data8     0\n",
       "data9     0\n",
       "output    0\n",
       "dtype: int64"
      ]
     },
     "execution_count": 22,
     "metadata": {},
     "output_type": "execute_result"
    }
   ],
   "source": [
    "lrtr.isnull().sum()"
   ]
  },
  {
   "cell_type": "code",
   "execution_count": 23,
   "metadata": {},
   "outputs": [
    {
     "data": {
      "text/plain": [
       "(9997, 10)"
      ]
     },
     "execution_count": 23,
     "metadata": {},
     "output_type": "execute_result"
    }
   ],
   "source": [
    "lrtr.shape"
   ]
  },
  {
   "cell_type": "code",
   "execution_count": 24,
   "metadata": {},
   "outputs": [
    {
     "name": "stdout",
     "output_type": "stream",
     "text": [
      "set()\n"
     ]
    }
   ],
   "source": [
    "print(set())"
   ]
  },
  {
   "cell_type": "code",
   "execution_count": 25,
   "metadata": {},
   "outputs": [
    {
     "data": {
      "text/plain": [
       "<seaborn.axisgrid.PairGrid at 0x92b39b8>"
      ]
     },
     "execution_count": 25,
     "metadata": {},
     "output_type": "execute_result"
    },
    {
     "data": {
      "image/png": "[encoded data removed]",
      "text/plain": [
       "<Figure size 1620x180 with 9 Axes>"
      ]
     },
     "metadata": {
      "needs_background": "light"
     },
     "output_type": "display_data"
    }
   ],
   "source": [
    "sns.pairplot(data = lrtr, x_vars = ['data1', 'data2', 'data3', 'data4', 'data5', 'data6', 'data7', 'data8', 'data9'], y_vars = ['output'])"
   ]
  },
  {
   "cell_type": "code",
   "execution_count": 26,
   "metadata": {},
   "outputs": [
    {
     "data": {
      "text/plain": [
       "<matplotlib.axes._subplots.AxesSubplot at 0x9ccd370>"
      ]
     },
     "execution_count": 26,
     "metadata": {},
     "output_type": "execute_result"
    },
    {
     "data": {
      "image/png": "[encoded data removed]",
      "text/plain": [
       "<Figure size 432x288 with 2 Axes>"
      ]
     },
     "metadata": {
      "needs_background": "light"
     },
     "output_type": "display_data"
    }
   ],
   "source": [
    "sns.heatmap(lrtr.corr(), annot = True)"
   ]
  },
  {
   "cell_type": "code",
   "execution_count": 27,
   "metadata": {},
   "outputs": [
    {
     "data": {
      "text/html": [
       "<div>\n",
       "<style scoped>\n",
       "    .dataframe tbody tr th:only-of-type {\n",
       "        vertical-align: middle;\n",
       "    }\n",
       "\n",
       "    .dataframe tbody tr th {\n",
       "        vertical-align: top;\n",
       "    }\n",
       "\n",
       "    .dataframe thead th {\n",
       "        text-align: right;\n",
       "    }\n",
       "</style>\n",
       "<table border=\"1\" class=\"dataframe\">\n",
       "  <thead>\n",
       "    <tr style=\"text-align: right;\">\n",
       "      <th></th>\n",
       "      <th>data1</th>\n",
       "      <th>data2</th>\n",
       "      <th>data3</th>\n",
       "      <th>data4</th>\n",
       "      <th>data5</th>\n",
       "      <th>data6</th>\n",
       "      <th>data7</th>\n",
       "      <th>data8</th>\n",
       "      <th>data9</th>\n",
       "      <th>output</th>\n",
       "    </tr>\n",
       "  </thead>\n",
       "  <tbody>\n",
       "    <tr>\n",
       "      <th>0</th>\n",
       "      <td>8</td>\n",
       "      <td>279</td>\n",
       "      <td>5</td>\n",
       "      <td>14.451155</td>\n",
       "      <td>1139.0</td>\n",
       "      <td>1.0</td>\n",
       "      <td>9.302908</td>\n",
       "      <td>1.0</td>\n",
       "      <td>0</td>\n",
       "      <td>86.108947</td>\n",
       "    </tr>\n",
       "    <tr>\n",
       "      <th>1</th>\n",
       "      <td>1</td>\n",
       "      <td>108</td>\n",
       "      <td>6</td>\n",
       "      <td>14.207448</td>\n",
       "      <td>1656.0</td>\n",
       "      <td>1.0</td>\n",
       "      <td>7.220130</td>\n",
       "      <td>0.0</td>\n",
       "      <td>0</td>\n",
       "      <td>42.606833</td>\n",
       "    </tr>\n",
       "    <tr>\n",
       "      <th>2</th>\n",
       "      <td>8</td>\n",
       "      <td>258</td>\n",
       "      <td>7</td>\n",
       "      <td>19.220830</td>\n",
       "      <td>2817.0</td>\n",
       "      <td>1.0</td>\n",
       "      <td>8.727214</td>\n",
       "      <td>1.0</td>\n",
       "      <td>0</td>\n",
       "      <td>85.625961</td>\n",
       "    </tr>\n",
       "    <tr>\n",
       "      <th>3</th>\n",
       "      <td>4</td>\n",
       "      <td>147</td>\n",
       "      <td>7</td>\n",
       "      <td>15.752732</td>\n",
       "      <td>1948.0</td>\n",
       "      <td>1.0</td>\n",
       "      <td>6.078818</td>\n",
       "      <td>1.0</td>\n",
       "      <td>0</td>\n",
       "      <td>53.656277</td>\n",
       "    </tr>\n",
       "    <tr>\n",
       "      <th>4</th>\n",
       "      <td>5</td>\n",
       "      <td>230</td>\n",
       "      <td>6</td>\n",
       "      <td>10.195407</td>\n",
       "      <td>1336.0</td>\n",
       "      <td>1.0</td>\n",
       "      <td>4.749185</td>\n",
       "      <td>0.0</td>\n",
       "      <td>0</td>\n",
       "      <td>64.925051</td>\n",
       "    </tr>\n",
       "    <tr>\n",
       "      <th>...</th>\n",
       "      <td>...</td>\n",
       "      <td>...</td>\n",
       "      <td>...</td>\n",
       "      <td>...</td>\n",
       "      <td>...</td>\n",
       "      <td>...</td>\n",
       "      <td>...</td>\n",
       "      <td>...</td>\n",
       "      <td>...</td>\n",
       "      <td>...</td>\n",
       "    </tr>\n",
       "    <tr>\n",
       "      <th>9995</th>\n",
       "      <td>9</td>\n",
       "      <td>263</td>\n",
       "      <td>7</td>\n",
       "      <td>16.604215</td>\n",
       "      <td>1070.0</td>\n",
       "      <td>0.0</td>\n",
       "      <td>8.979149</td>\n",
       "      <td>2.0</td>\n",
       "      <td>1</td>\n",
       "      <td>85.922943</td>\n",
       "    </tr>\n",
       "    <tr>\n",
       "      <th>9996</th>\n",
       "      <td>5</td>\n",
       "      <td>280</td>\n",
       "      <td>2</td>\n",
       "      <td>28.758911</td>\n",
       "      <td>2652.0</td>\n",
       "      <td>0.0</td>\n",
       "      <td>3.574129</td>\n",
       "      <td>0.0</td>\n",
       "      <td>1</td>\n",
       "      <td>90.857149</td>\n",
       "    </tr>\n",
       "    <tr>\n",
       "      <th>9997</th>\n",
       "      <td>6</td>\n",
       "      <td>188</td>\n",
       "      <td>4</td>\n",
       "      <td>15.963267</td>\n",
       "      <td>1359.0</td>\n",
       "      <td>0.0</td>\n",
       "      <td>2.880019</td>\n",
       "      <td>0.0</td>\n",
       "      <td>1</td>\n",
       "      <td>61.246960</td>\n",
       "    </tr>\n",
       "    <tr>\n",
       "      <th>9998</th>\n",
       "      <td>1</td>\n",
       "      <td>132</td>\n",
       "      <td>6</td>\n",
       "      <td>11.683401</td>\n",
       "      <td>1793.0</td>\n",
       "      <td>0.0</td>\n",
       "      <td>6.983192</td>\n",
       "      <td>2.0</td>\n",
       "      <td>1</td>\n",
       "      <td>45.298253</td>\n",
       "    </tr>\n",
       "    <tr>\n",
       "      <th>9999</th>\n",
       "      <td>5</td>\n",
       "      <td>264</td>\n",
       "      <td>7</td>\n",
       "      <td>21.176115</td>\n",
       "      <td>1792.0</td>\n",
       "      <td>0.0</td>\n",
       "      <td>8.276101</td>\n",
       "      <td>2.0</td>\n",
       "      <td>1</td>\n",
       "      <td>85.534604</td>\n",
       "    </tr>\n",
       "  </tbody>\n",
       "</table>\n",
       "<p>9997 rows × 10 columns</p>\n",
       "</div>"
      ],
      "text/plain": [
       "      data1  data2  data3      data4   data5  data6     data7  data8  data9  \\\n",
       "0         8    279      5  14.451155  1139.0    1.0  9.302908    1.0      0   \n",
       "1         1    108      6  14.207448  1656.0    1.0  7.220130    0.0      0   \n",
       "2         8    258      7  19.220830  2817.0    1.0  8.727214    1.0      0   \n",
       "3         4    147      7  15.752732  1948.0    1.0  6.078818    1.0      0   \n",
       "4         5    230      6  10.195407  1336.0    1.0  4.749185    0.0      0   \n",
       "...     ...    ...    ...        ...     ...    ...       ...    ...    ...   \n",
       "9995      9    263      7  16.604215  1070.0    0.0  8.979149    2.0      1   \n",
       "9996      5    280      2  28.758911  2652.0    0.0  3.574129    0.0      1   \n",
       "9997      6    188      4  15.963267  1359.0    0.0  2.880019    0.0      1   \n",
       "9998      1    132      6  11.683401  1793.0    0.0  6.983192    2.0      1   \n",
       "9999      5    264      7  21.176115  1792.0    0.0  8.276101    2.0      1   \n",
       "\n",
       "         output  \n",
       "0     86.108947  \n",
       "1     42.606833  \n",
       "2     85.625961  \n",
       "3     53.656277  \n",
       "4     64.925051  \n",
       "...         ...  \n",
       "9995  85.922943  \n",
       "9996  90.857149  \n",
       "9997  61.246960  \n",
       "9998  45.298253  \n",
       "9999  85.534604  \n",
       "\n",
       "[9997 rows x 10 columns]"
      ]
     },
     "execution_count": 27,
     "metadata": {},
     "output_type": "execute_result"
    }
   ],
   "source": [
    "lrtr"
   ]
  },
  {
   "cell_type": "code",
   "execution_count": 28,
   "metadata": {},
   "outputs": [
    {
     "data": {
      "text/html": [
       "<div>\n",
       "<style scoped>\n",
       "    .dataframe tbody tr th:only-of-type {\n",
       "        vertical-align: middle;\n",
       "    }\n",
       "\n",
       "    .dataframe tbody tr th {\n",
       "        vertical-align: top;\n",
       "    }\n",
       "\n",
       "    .dataframe thead th {\n",
       "        text-align: right;\n",
       "    }\n",
       "</style>\n",
       "<table border=\"1\" class=\"dataframe\">\n",
       "  <thead>\n",
       "    <tr style=\"text-align: right;\">\n",
       "      <th></th>\n",
       "      <th>data1</th>\n",
       "      <th>data2</th>\n",
       "      <th>data3</th>\n",
       "      <th>data4</th>\n",
       "      <th>data5</th>\n",
       "      <th>data6</th>\n",
       "      <th>data7</th>\n",
       "      <th>data8</th>\n",
       "      <th>data9</th>\n",
       "    </tr>\n",
       "  </thead>\n",
       "  <tbody>\n",
       "    <tr>\n",
       "      <th>0</th>\n",
       "      <td>8</td>\n",
       "      <td>279</td>\n",
       "      <td>5</td>\n",
       "      <td>14.451155</td>\n",
       "      <td>1139.0</td>\n",
       "      <td>1.0</td>\n",
       "      <td>9.302908</td>\n",
       "      <td>1.0</td>\n",
       "      <td>0</td>\n",
       "    </tr>\n",
       "    <tr>\n",
       "      <th>1</th>\n",
       "      <td>1</td>\n",
       "      <td>108</td>\n",
       "      <td>6</td>\n",
       "      <td>14.207448</td>\n",
       "      <td>1656.0</td>\n",
       "      <td>1.0</td>\n",
       "      <td>7.220130</td>\n",
       "      <td>0.0</td>\n",
       "      <td>0</td>\n",
       "    </tr>\n",
       "    <tr>\n",
       "      <th>2</th>\n",
       "      <td>8</td>\n",
       "      <td>258</td>\n",
       "      <td>7</td>\n",
       "      <td>19.220830</td>\n",
       "      <td>2817.0</td>\n",
       "      <td>1.0</td>\n",
       "      <td>8.727214</td>\n",
       "      <td>1.0</td>\n",
       "      <td>0</td>\n",
       "    </tr>\n",
       "    <tr>\n",
       "      <th>3</th>\n",
       "      <td>4</td>\n",
       "      <td>147</td>\n",
       "      <td>7</td>\n",
       "      <td>15.752732</td>\n",
       "      <td>1948.0</td>\n",
       "      <td>1.0</td>\n",
       "      <td>6.078818</td>\n",
       "      <td>1.0</td>\n",
       "      <td>0</td>\n",
       "    </tr>\n",
       "    <tr>\n",
       "      <th>4</th>\n",
       "      <td>5</td>\n",
       "      <td>230</td>\n",
       "      <td>6</td>\n",
       "      <td>10.195407</td>\n",
       "      <td>1336.0</td>\n",
       "      <td>1.0</td>\n",
       "      <td>4.749185</td>\n",
       "      <td>0.0</td>\n",
       "      <td>0</td>\n",
       "    </tr>\n",
       "    <tr>\n",
       "      <th>...</th>\n",
       "      <td>...</td>\n",
       "      <td>...</td>\n",
       "      <td>...</td>\n",
       "      <td>...</td>\n",
       "      <td>...</td>\n",
       "      <td>...</td>\n",
       "      <td>...</td>\n",
       "      <td>...</td>\n",
       "      <td>...</td>\n",
       "    </tr>\n",
       "    <tr>\n",
       "      <th>9995</th>\n",
       "      <td>9</td>\n",
       "      <td>263</td>\n",
       "      <td>7</td>\n",
       "      <td>16.604215</td>\n",
       "      <td>1070.0</td>\n",
       "      <td>0.0</td>\n",
       "      <td>8.979149</td>\n",
       "      <td>2.0</td>\n",
       "      <td>1</td>\n",
       "    </tr>\n",
       "    <tr>\n",
       "      <th>9996</th>\n",
       "      <td>5</td>\n",
       "      <td>280</td>\n",
       "      <td>2</td>\n",
       "      <td>28.758911</td>\n",
       "      <td>2652.0</td>\n",
       "      <td>0.0</td>\n",
       "      <td>3.574129</td>\n",
       "      <td>0.0</td>\n",
       "      <td>1</td>\n",
       "    </tr>\n",
       "    <tr>\n",
       "      <th>9997</th>\n",
       "      <td>6</td>\n",
       "      <td>188</td>\n",
       "      <td>4</td>\n",
       "      <td>15.963267</td>\n",
       "      <td>1359.0</td>\n",
       "      <td>0.0</td>\n",
       "      <td>2.880019</td>\n",
       "      <td>0.0</td>\n",
       "      <td>1</td>\n",
       "    </tr>\n",
       "    <tr>\n",
       "      <th>9998</th>\n",
       "      <td>1</td>\n",
       "      <td>132</td>\n",
       "      <td>6</td>\n",
       "      <td>11.683401</td>\n",
       "      <td>1793.0</td>\n",
       "      <td>0.0</td>\n",
       "      <td>6.983192</td>\n",
       "      <td>2.0</td>\n",
       "      <td>1</td>\n",
       "    </tr>\n",
       "    <tr>\n",
       "      <th>9999</th>\n",
       "      <td>5</td>\n",
       "      <td>264</td>\n",
       "      <td>7</td>\n",
       "      <td>21.176115</td>\n",
       "      <td>1792.0</td>\n",
       "      <td>0.0</td>\n",
       "      <td>8.276101</td>\n",
       "      <td>2.0</td>\n",
       "      <td>1</td>\n",
       "    </tr>\n",
       "  </tbody>\n",
       "</table>\n",
       "<p>9997 rows × 9 columns</p>\n",
       "</div>"
      ],
      "text/plain": [
       "      data1  data2  data3      data4   data5  data6     data7  data8  data9\n",
       "0         8    279      5  14.451155  1139.0    1.0  9.302908    1.0      0\n",
       "1         1    108      6  14.207448  1656.0    1.0  7.220130    0.0      0\n",
       "2         8    258      7  19.220830  2817.0    1.0  8.727214    1.0      0\n",
       "3         4    147      7  15.752732  1948.0    1.0  6.078818    1.0      0\n",
       "4         5    230      6  10.195407  1336.0    1.0  4.749185    0.0      0\n",
       "...     ...    ...    ...        ...     ...    ...       ...    ...    ...\n",
       "9995      9    263      7  16.604215  1070.0    0.0  8.979149    2.0      1\n",
       "9996      5    280      2  28.758911  2652.0    0.0  3.574129    0.0      1\n",
       "9997      6    188      4  15.963267  1359.0    0.0  2.880019    0.0      1\n",
       "9998      1    132      6  11.683401  1793.0    0.0  6.983192    2.0      1\n",
       "9999      5    264      7  21.176115  1792.0    0.0  8.276101    2.0      1\n",
       "\n",
       "[9997 rows x 9 columns]"
      ]
     },
     "execution_count": 28,
     "metadata": {},
     "output_type": "execute_result"
    }
   ],
   "source": [
    "X =lrtr.iloc[:,0:9]\n",
    "X"
   ]
  },
  {
   "cell_type": "code",
   "execution_count": 29,
   "metadata": {},
   "outputs": [
    {
     "data": {
      "text/plain": [
       "(9997, 9)"
      ]
     },
     "execution_count": 29,
     "metadata": {},
     "output_type": "execute_result"
    }
   ],
   "source": [
    "X.shape"
   ]
  },
  {
   "cell_type": "code",
   "execution_count": 30,
   "metadata": {},
   "outputs": [
    {
     "data": {
      "text/plain": [
       "0       86.108947\n",
       "1       42.606833\n",
       "2       85.625961\n",
       "3       53.656277\n",
       "4       64.925051\n",
       "          ...    \n",
       "9995    85.922943\n",
       "9996    90.857149\n",
       "9997    61.246960\n",
       "9998    45.298253\n",
       "9999    85.534604\n",
       "Name: output, Length: 9997, dtype: float64"
      ]
     },
     "execution_count": 30,
     "metadata": {},
     "output_type": "execute_result"
    }
   ],
   "source": [
    "y = lrtr.iloc[:,-1]\n",
    "y"
   ]
  },
  {
   "cell_type": "code",
   "execution_count": 31,
   "metadata": {},
   "outputs": [
    {
     "data": {
      "text/plain": [
       "(9997,)"
      ]
     },
     "execution_count": 31,
     "metadata": {},
     "output_type": "execute_result"
    }
   ],
   "source": [
    "y.shape"
   ]
  },
  {
   "cell_type": "code",
   "execution_count": 32,
   "metadata": {},
   "outputs": [
    {
     "data": {
      "text/plain": [
       "(7697,)"
      ]
     },
     "execution_count": 32,
     "metadata": {},
     "output_type": "execute_result"
    }
   ],
   "source": [
    "from sklearn.model_selection import train_test_split\n",
    "X_train, X_test, y_train, y_test = train_test_split(X,y, train_size = 0.77, random_state = 100)\n",
    "y_train.shape"
   ]
  },
  {
   "cell_type": "code",
   "execution_count": 33,
   "metadata": {},
   "outputs": [
    {
     "data": {
      "text/plain": [
       "(7697, 9)"
      ]
     },
     "execution_count": 33,
     "metadata": {},
     "output_type": "execute_result"
    }
   ],
   "source": [
    "X_train.shape"
   ]
  },
  {
   "cell_type": "code",
   "execution_count": 34,
   "metadata": {},
   "outputs": [],
   "source": [
    "import sklearn\n",
    "from sklearn.linear_model import LinearRegression"
   ]
  },
  {
   "cell_type": "code",
   "execution_count": 35,
   "metadata": {},
   "outputs": [],
   "source": [
    "regressor = LinearRegression()"
   ]
  },
  {
   "cell_type": "code",
   "execution_count": 36,
   "metadata": {},
   "outputs": [
    {
     "data": {
      "text/plain": [
       "LinearRegression()"
      ]
     },
     "execution_count": 36,
     "metadata": {},
     "output_type": "execute_result"
    }
   ],
   "source": [
    "regressor.fit(X_train,y_train)"
   ]
  },
  {
   "cell_type": "code",
   "execution_count": 37,
   "metadata": {},
   "outputs": [],
   "source": [
    "y_pred = regressor.predict(X_test)"
   ]
  },
  {
   "cell_type": "code",
   "execution_count": 38,
   "metadata": {},
   "outputs": [
    {
     "data": {
      "text/plain": [
       "1.2311043002739708"
      ]
     },
     "execution_count": 38,
     "metadata": {},
     "output_type": "execute_result"
    }
   ],
   "source": [
    "from sklearn.metrics import mean_squared_error\n",
    "mean_squared_error(y_test, y_pred)"
   ]
  },
  {
   "cell_type": "code",
   "execution_count": 39,
   "metadata": {},
   "outputs": [
    {
     "data": {
      "text/plain": [
       "0.9932720374474342"
      ]
     },
     "execution_count": 39,
     "metadata": {},
     "output_type": "execute_result"
    }
   ],
   "source": [
    "from sklearn.metrics import r2_score\n",
    "r2_score(y_test, y_pred)"
   ]
  },
  {
   "cell_type": "code",
   "execution_count": 40,
   "metadata": {},
   "outputs": [],
   "source": [
    "lrts = pd.read_csv(r'C:\\Users\\sripu\\OneDrive\\Desktop\\regression_test.csv')"
   ]
  },
  {
   "cell_type": "code",
   "execution_count": 41,
   "metadata": {},
   "outputs": [
    {
     "data": {
      "text/html": [
       "<div>\n",
       "<style scoped>\n",
       "    .dataframe tbody tr th:only-of-type {\n",
       "        vertical-align: middle;\n",
       "    }\n",
       "\n",
       "    .dataframe tbody tr th {\n",
       "        vertical-align: top;\n",
       "    }\n",
       "\n",
       "    .dataframe thead th {\n",
       "        text-align: right;\n",
       "    }\n",
       "</style>\n",
       "<table border=\"1\" class=\"dataframe\">\n",
       "  <thead>\n",
       "    <tr style=\"text-align: right;\">\n",
       "      <th></th>\n",
       "      <th>data1</th>\n",
       "      <th>data2</th>\n",
       "      <th>data3</th>\n",
       "      <th>data4</th>\n",
       "      <th>data5</th>\n",
       "      <th>data6</th>\n",
       "      <th>data7</th>\n",
       "      <th>data8</th>\n",
       "      <th>data9</th>\n",
       "      <th>data10</th>\n",
       "    </tr>\n",
       "  </thead>\n",
       "  <tbody>\n",
       "    <tr>\n",
       "      <th>0</th>\n",
       "      <td>7</td>\n",
       "      <td>195</td>\n",
       "      <td>A</td>\n",
       "      <td>29.038043</td>\n",
       "      <td>2725</td>\n",
       "      <td>1</td>\n",
       "      <td>6.145731</td>\n",
       "      <td>2</td>\n",
       "      <td>M</td>\n",
       "      <td>p</td>\n",
       "    </tr>\n",
       "    <tr>\n",
       "      <th>1</th>\n",
       "      <td>9</td>\n",
       "      <td>109</td>\n",
       "      <td>F</td>\n",
       "      <td>20.221431</td>\n",
       "      <td>1184</td>\n",
       "      <td>1</td>\n",
       "      <td>9.334184</td>\n",
       "      <td>2</td>\n",
       "      <td>M</td>\n",
       "      <td>p</td>\n",
       "    </tr>\n",
       "    <tr>\n",
       "      <th>2</th>\n",
       "      <td>0</td>\n",
       "      <td>126</td>\n",
       "      <td>C</td>\n",
       "      <td>26.477532</td>\n",
       "      <td>2975</td>\n",
       "      <td>1</td>\n",
       "      <td>9.021806</td>\n",
       "      <td>1</td>\n",
       "      <td>M</td>\n",
       "      <td>p</td>\n",
       "    </tr>\n",
       "    <tr>\n",
       "      <th>3</th>\n",
       "      <td>2</td>\n",
       "      <td>209</td>\n",
       "      <td>E</td>\n",
       "      <td>13.445450</td>\n",
       "      <td>1067</td>\n",
       "      <td>1</td>\n",
       "      <td>1.814993</td>\n",
       "      <td>0</td>\n",
       "      <td>M</td>\n",
       "      <td>p</td>\n",
       "    </tr>\n",
       "    <tr>\n",
       "      <th>4</th>\n",
       "      <td>5</td>\n",
       "      <td>268</td>\n",
       "      <td>B</td>\n",
       "      <td>25.065894</td>\n",
       "      <td>1336</td>\n",
       "      <td>1</td>\n",
       "      <td>1.639130</td>\n",
       "      <td>1</td>\n",
       "      <td>M</td>\n",
       "      <td>p</td>\n",
       "    </tr>\n",
       "    <tr>\n",
       "      <th>...</th>\n",
       "      <td>...</td>\n",
       "      <td>...</td>\n",
       "      <td>...</td>\n",
       "      <td>...</td>\n",
       "      <td>...</td>\n",
       "      <td>...</td>\n",
       "      <td>...</td>\n",
       "      <td>...</td>\n",
       "      <td>...</td>\n",
       "      <td>...</td>\n",
       "    </tr>\n",
       "    <tr>\n",
       "      <th>9995</th>\n",
       "      <td>7</td>\n",
       "      <td>251</td>\n",
       "      <td>D</td>\n",
       "      <td>23.004384</td>\n",
       "      <td>1637</td>\n",
       "      <td>0</td>\n",
       "      <td>8.333728</td>\n",
       "      <td>1</td>\n",
       "      <td>F</td>\n",
       "      <td>p</td>\n",
       "    </tr>\n",
       "    <tr>\n",
       "      <th>9996</th>\n",
       "      <td>5</td>\n",
       "      <td>275</td>\n",
       "      <td>A</td>\n",
       "      <td>29.514058</td>\n",
       "      <td>2339</td>\n",
       "      <td>0</td>\n",
       "      <td>9.953107</td>\n",
       "      <td>1</td>\n",
       "      <td>F</td>\n",
       "      <td>p</td>\n",
       "    </tr>\n",
       "    <tr>\n",
       "      <th>9997</th>\n",
       "      <td>8</td>\n",
       "      <td>168</td>\n",
       "      <td>C</td>\n",
       "      <td>22.520965</td>\n",
       "      <td>1827</td>\n",
       "      <td>0</td>\n",
       "      <td>7.555553</td>\n",
       "      <td>1</td>\n",
       "      <td>F</td>\n",
       "      <td>p</td>\n",
       "    </tr>\n",
       "    <tr>\n",
       "      <th>9998</th>\n",
       "      <td>4</td>\n",
       "      <td>296</td>\n",
       "      <td>E</td>\n",
       "      <td>16.558948</td>\n",
       "      <td>1748</td>\n",
       "      <td>0</td>\n",
       "      <td>8.846995</td>\n",
       "      <td>1</td>\n",
       "      <td>F</td>\n",
       "      <td>p</td>\n",
       "    </tr>\n",
       "    <tr>\n",
       "      <th>9999</th>\n",
       "      <td>7</td>\n",
       "      <td>281</td>\n",
       "      <td>C</td>\n",
       "      <td>18.546089</td>\n",
       "      <td>1651</td>\n",
       "      <td>0</td>\n",
       "      <td>8.907220</td>\n",
       "      <td>2</td>\n",
       "      <td>F</td>\n",
       "      <td>p</td>\n",
       "    </tr>\n",
       "  </tbody>\n",
       "</table>\n",
       "<p>10000 rows × 10 columns</p>\n",
       "</div>"
      ],
      "text/plain": [
       "      data1  data2 data3      data4  data5  data6     data7  data8 data9  \\\n",
       "0         7    195     A  29.038043   2725      1  6.145731      2     M   \n",
       "1         9    109     F  20.221431   1184      1  9.334184      2     M   \n",
       "2         0    126     C  26.477532   2975      1  9.021806      1     M   \n",
       "3         2    209     E  13.445450   1067      1  1.814993      0     M   \n",
       "4         5    268     B  25.065894   1336      1  1.639130      1     M   \n",
       "...     ...    ...   ...        ...    ...    ...       ...    ...   ...   \n",
       "9995      7    251     D  23.004384   1637      0  8.333728      1     F   \n",
       "9996      5    275     A  29.514058   2339      0  9.953107      1     F   \n",
       "9997      8    168     C  22.520965   1827      0  7.555553      1     F   \n",
       "9998      4    296     E  16.558948   1748      0  8.846995      1     F   \n",
       "9999      7    281     C  18.546089   1651      0  8.907220      2     F   \n",
       "\n",
       "     data10  \n",
       "0         p  \n",
       "1         p  \n",
       "2         p  \n",
       "3         p  \n",
       "4         p  \n",
       "...     ...  \n",
       "9995      p  \n",
       "9996      p  \n",
       "9997      p  \n",
       "9998      p  \n",
       "9999      p  \n",
       "\n",
       "[10000 rows x 10 columns]"
      ]
     },
     "execution_count": 41,
     "metadata": {},
     "output_type": "execute_result"
    }
   ],
   "source": [
    "lrts"
   ]
  },
  {
   "cell_type": "code",
   "execution_count": 42,
   "metadata": {},
   "outputs": [],
   "source": [
    "lrts.drop('data10', axis=1, inplace = True)"
   ]
  },
  {
   "cell_type": "code",
   "execution_count": 43,
   "metadata": {},
   "outputs": [
    {
     "data": {
      "text/html": [
       "<div>\n",
       "<style scoped>\n",
       "    .dataframe tbody tr th:only-of-type {\n",
       "        vertical-align: middle;\n",
       "    }\n",
       "\n",
       "    .dataframe tbody tr th {\n",
       "        vertical-align: top;\n",
       "    }\n",
       "\n",
       "    .dataframe thead th {\n",
       "        text-align: right;\n",
       "    }\n",
       "</style>\n",
       "<table border=\"1\" class=\"dataframe\">\n",
       "  <thead>\n",
       "    <tr style=\"text-align: right;\">\n",
       "      <th></th>\n",
       "      <th>data1</th>\n",
       "      <th>data2</th>\n",
       "      <th>data3</th>\n",
       "      <th>data4</th>\n",
       "      <th>data5</th>\n",
       "      <th>data6</th>\n",
       "      <th>data7</th>\n",
       "      <th>data8</th>\n",
       "      <th>data9</th>\n",
       "    </tr>\n",
       "  </thead>\n",
       "  <tbody>\n",
       "    <tr>\n",
       "      <th>0</th>\n",
       "      <td>7</td>\n",
       "      <td>195</td>\n",
       "      <td>0</td>\n",
       "      <td>29.038043</td>\n",
       "      <td>2725</td>\n",
       "      <td>1</td>\n",
       "      <td>6.145731</td>\n",
       "      <td>2</td>\n",
       "      <td>1</td>\n",
       "    </tr>\n",
       "    <tr>\n",
       "      <th>1</th>\n",
       "      <td>9</td>\n",
       "      <td>109</td>\n",
       "      <td>5</td>\n",
       "      <td>20.221431</td>\n",
       "      <td>1184</td>\n",
       "      <td>1</td>\n",
       "      <td>9.334184</td>\n",
       "      <td>2</td>\n",
       "      <td>1</td>\n",
       "    </tr>\n",
       "    <tr>\n",
       "      <th>2</th>\n",
       "      <td>0</td>\n",
       "      <td>126</td>\n",
       "      <td>2</td>\n",
       "      <td>26.477532</td>\n",
       "      <td>2975</td>\n",
       "      <td>1</td>\n",
       "      <td>9.021806</td>\n",
       "      <td>1</td>\n",
       "      <td>1</td>\n",
       "    </tr>\n",
       "    <tr>\n",
       "      <th>3</th>\n",
       "      <td>2</td>\n",
       "      <td>209</td>\n",
       "      <td>4</td>\n",
       "      <td>13.445450</td>\n",
       "      <td>1067</td>\n",
       "      <td>1</td>\n",
       "      <td>1.814993</td>\n",
       "      <td>0</td>\n",
       "      <td>1</td>\n",
       "    </tr>\n",
       "    <tr>\n",
       "      <th>4</th>\n",
       "      <td>5</td>\n",
       "      <td>268</td>\n",
       "      <td>1</td>\n",
       "      <td>25.065894</td>\n",
       "      <td>1336</td>\n",
       "      <td>1</td>\n",
       "      <td>1.639130</td>\n",
       "      <td>1</td>\n",
       "      <td>1</td>\n",
       "    </tr>\n",
       "    <tr>\n",
       "      <th>...</th>\n",
       "      <td>...</td>\n",
       "      <td>...</td>\n",
       "      <td>...</td>\n",
       "      <td>...</td>\n",
       "      <td>...</td>\n",
       "      <td>...</td>\n",
       "      <td>...</td>\n",
       "      <td>...</td>\n",
       "      <td>...</td>\n",
       "    </tr>\n",
       "    <tr>\n",
       "      <th>9995</th>\n",
       "      <td>7</td>\n",
       "      <td>251</td>\n",
       "      <td>3</td>\n",
       "      <td>23.004384</td>\n",
       "      <td>1637</td>\n",
       "      <td>0</td>\n",
       "      <td>8.333728</td>\n",
       "      <td>1</td>\n",
       "      <td>0</td>\n",
       "    </tr>\n",
       "    <tr>\n",
       "      <th>9996</th>\n",
       "      <td>5</td>\n",
       "      <td>275</td>\n",
       "      <td>0</td>\n",
       "      <td>29.514058</td>\n",
       "      <td>2339</td>\n",
       "      <td>0</td>\n",
       "      <td>9.953107</td>\n",
       "      <td>1</td>\n",
       "      <td>0</td>\n",
       "    </tr>\n",
       "    <tr>\n",
       "      <th>9997</th>\n",
       "      <td>8</td>\n",
       "      <td>168</td>\n",
       "      <td>2</td>\n",
       "      <td>22.520965</td>\n",
       "      <td>1827</td>\n",
       "      <td>0</td>\n",
       "      <td>7.555553</td>\n",
       "      <td>1</td>\n",
       "      <td>0</td>\n",
       "    </tr>\n",
       "    <tr>\n",
       "      <th>9998</th>\n",
       "      <td>4</td>\n",
       "      <td>296</td>\n",
       "      <td>4</td>\n",
       "      <td>16.558948</td>\n",
       "      <td>1748</td>\n",
       "      <td>0</td>\n",
       "      <td>8.846995</td>\n",
       "      <td>1</td>\n",
       "      <td>0</td>\n",
       "    </tr>\n",
       "    <tr>\n",
       "      <th>9999</th>\n",
       "      <td>7</td>\n",
       "      <td>281</td>\n",
       "      <td>2</td>\n",
       "      <td>18.546089</td>\n",
       "      <td>1651</td>\n",
       "      <td>0</td>\n",
       "      <td>8.907220</td>\n",
       "      <td>2</td>\n",
       "      <td>0</td>\n",
       "    </tr>\n",
       "  </tbody>\n",
       "</table>\n",
       "<p>10000 rows × 9 columns</p>\n",
       "</div>"
      ],
      "text/plain": [
       "      data1  data2  data3      data4  data5  data6     data7  data8  data9\n",
       "0         7    195      0  29.038043   2725      1  6.145731      2      1\n",
       "1         9    109      5  20.221431   1184      1  9.334184      2      1\n",
       "2         0    126      2  26.477532   2975      1  9.021806      1      1\n",
       "3         2    209      4  13.445450   1067      1  1.814993      0      1\n",
       "4         5    268      1  25.065894   1336      1  1.639130      1      1\n",
       "...     ...    ...    ...        ...    ...    ...       ...    ...    ...\n",
       "9995      7    251      3  23.004384   1637      0  8.333728      1      0\n",
       "9996      5    275      0  29.514058   2339      0  9.953107      1      0\n",
       "9997      8    168      2  22.520965   1827      0  7.555553      1      0\n",
       "9998      4    296      4  16.558948   1748      0  8.846995      1      0\n",
       "9999      7    281      2  18.546089   1651      0  8.907220      2      0\n",
       "\n",
       "[10000 rows x 9 columns]"
      ]
     },
     "execution_count": 43,
     "metadata": {},
     "output_type": "execute_result"
    }
   ],
   "source": [
    "from sklearn.preprocessing import LabelEncoder\n",
    "le = LabelEncoder()\n",
    "lrts['data3'] = le.fit_transform(lrts['data3'])\n",
    "lrts['data9'] = le.fit_transform(lrts['data9'])\n",
    "lrts\n"
   ]
  },
  {
   "cell_type": "code",
   "execution_count": 47,
   "metadata": {},
   "outputs": [
    {
     "data": {
      "text/plain": [
       "data1    0\n",
       "data2    0\n",
       "data3    0\n",
       "data4    0\n",
       "data5    0\n",
       "data6    0\n",
       "data7    0\n",
       "data8    0\n",
       "data9    0\n",
       "dtype: int64"
      ]
     },
     "execution_count": 47,
     "metadata": {},
     "output_type": "execute_result"
    }
   ],
   "source": [
    "lrts.isnull().sum()"
   ]
  },
  {
   "cell_type": "code",
   "execution_count": 48,
   "metadata": {},
   "outputs": [
    {
     "data": {
      "text/html": [
       "<div>\n",
       "<style scoped>\n",
       "    .dataframe tbody tr th:only-of-type {\n",
       "        vertical-align: middle;\n",
       "    }\n",
       "\n",
       "    .dataframe tbody tr th {\n",
       "        vertical-align: top;\n",
       "    }\n",
       "\n",
       "    .dataframe thead th {\n",
       "        text-align: right;\n",
       "    }\n",
       "</style>\n",
       "<table border=\"1\" class=\"dataframe\">\n",
       "  <thead>\n",
       "    <tr style=\"text-align: right;\">\n",
       "      <th></th>\n",
       "      <th>test_output</th>\n",
       "    </tr>\n",
       "  </thead>\n",
       "  <tbody>\n",
       "    <tr>\n",
       "      <th>0</th>\n",
       "      <td>77.585134</td>\n",
       "    </tr>\n",
       "    <tr>\n",
       "      <th>1</th>\n",
       "      <td>56.960109</td>\n",
       "    </tr>\n",
       "    <tr>\n",
       "      <th>2</th>\n",
       "      <td>60.053236</td>\n",
       "    </tr>\n",
       "    <tr>\n",
       "      <th>3</th>\n",
       "      <td>59.050772</td>\n",
       "    </tr>\n",
       "    <tr>\n",
       "      <th>4</th>\n",
       "      <td>82.868685</td>\n",
       "    </tr>\n",
       "    <tr>\n",
       "      <th>...</th>\n",
       "      <td>...</td>\n",
       "    </tr>\n",
       "    <tr>\n",
       "      <th>9995</th>\n",
       "      <td>85.283424</td>\n",
       "    </tr>\n",
       "    <tr>\n",
       "      <th>9996</th>\n",
       "      <td>96.279803</td>\n",
       "    </tr>\n",
       "    <tr>\n",
       "      <th>9997</th>\n",
       "      <td>68.097645</td>\n",
       "    </tr>\n",
       "    <tr>\n",
       "      <th>9998</th>\n",
       "      <td>87.235954</td>\n",
       "    </tr>\n",
       "    <tr>\n",
       "      <th>9999</th>\n",
       "      <td>87.949783</td>\n",
       "    </tr>\n",
       "  </tbody>\n",
       "</table>\n",
       "<p>10000 rows × 1 columns</p>\n",
       "</div>"
      ],
      "text/plain": [
       "      test_output\n",
       "0       77.585134\n",
       "1       56.960109\n",
       "2       60.053236\n",
       "3       59.050772\n",
       "4       82.868685\n",
       "...           ...\n",
       "9995    85.283424\n",
       "9996    96.279803\n",
       "9997    68.097645\n",
       "9998    87.235954\n",
       "9999    87.949783\n",
       "\n",
       "[10000 rows x 1 columns]"
      ]
     },
     "execution_count": 48,
     "metadata": {},
     "output_type": "execute_result"
    }
   ],
   "source": [
    "y_test_pred = regressor.predict(lrts)\n",
    "test_output = pd.DataFrame({\"test_output\": y_test_pred})\n",
    "test_output"
   ]
  },
  {
   "cell_type": "code",
   "execution_count": 49,
   "metadata": {},
   "outputs": [
    {
     "data": {
      "text/html": [
       "<div>\n",
       "<style scoped>\n",
       "    .dataframe tbody tr th:only-of-type {\n",
       "        vertical-align: middle;\n",
       "    }\n",
       "\n",
       "    .dataframe tbody tr th {\n",
       "        vertical-align: top;\n",
       "    }\n",
       "\n",
       "    .dataframe thead th {\n",
       "        text-align: right;\n",
       "    }\n",
       "</style>\n",
       "<table border=\"1\" class=\"dataframe\">\n",
       "  <thead>\n",
       "    <tr style=\"text-align: right;\">\n",
       "      <th></th>\n",
       "      <th>data1</th>\n",
       "      <th>data2</th>\n",
       "      <th>data3</th>\n",
       "      <th>data4</th>\n",
       "      <th>data5</th>\n",
       "      <th>data6</th>\n",
       "      <th>data7</th>\n",
       "      <th>data8</th>\n",
       "      <th>data9</th>\n",
       "      <th>test_output</th>\n",
       "    </tr>\n",
       "  </thead>\n",
       "  <tbody>\n",
       "    <tr>\n",
       "      <th>0</th>\n",
       "      <td>7</td>\n",
       "      <td>195</td>\n",
       "      <td>0</td>\n",
       "      <td>29.038043</td>\n",
       "      <td>2725</td>\n",
       "      <td>1</td>\n",
       "      <td>6.145731</td>\n",
       "      <td>2</td>\n",
       "      <td>1</td>\n",
       "      <td>77.585134</td>\n",
       "    </tr>\n",
       "    <tr>\n",
       "      <th>1</th>\n",
       "      <td>9</td>\n",
       "      <td>109</td>\n",
       "      <td>5</td>\n",
       "      <td>20.221431</td>\n",
       "      <td>1184</td>\n",
       "      <td>1</td>\n",
       "      <td>9.334184</td>\n",
       "      <td>2</td>\n",
       "      <td>1</td>\n",
       "      <td>56.960109</td>\n",
       "    </tr>\n",
       "    <tr>\n",
       "      <th>2</th>\n",
       "      <td>0</td>\n",
       "      <td>126</td>\n",
       "      <td>2</td>\n",
       "      <td>26.477532</td>\n",
       "      <td>2975</td>\n",
       "      <td>1</td>\n",
       "      <td>9.021806</td>\n",
       "      <td>1</td>\n",
       "      <td>1</td>\n",
       "      <td>60.053236</td>\n",
       "    </tr>\n",
       "    <tr>\n",
       "      <th>3</th>\n",
       "      <td>2</td>\n",
       "      <td>209</td>\n",
       "      <td>4</td>\n",
       "      <td>13.445450</td>\n",
       "      <td>1067</td>\n",
       "      <td>1</td>\n",
       "      <td>1.814993</td>\n",
       "      <td>0</td>\n",
       "      <td>1</td>\n",
       "      <td>59.050772</td>\n",
       "    </tr>\n",
       "    <tr>\n",
       "      <th>4</th>\n",
       "      <td>5</td>\n",
       "      <td>268</td>\n",
       "      <td>1</td>\n",
       "      <td>25.065894</td>\n",
       "      <td>1336</td>\n",
       "      <td>1</td>\n",
       "      <td>1.639130</td>\n",
       "      <td>1</td>\n",
       "      <td>1</td>\n",
       "      <td>82.868685</td>\n",
       "    </tr>\n",
       "  </tbody>\n",
       "</table>\n",
       "</div>"
      ],
      "text/plain": [
       "   data1  data2  data3      data4  data5  data6     data7  data8  data9  \\\n",
       "0      7    195      0  29.038043   2725      1  6.145731      2      1   \n",
       "1      9    109      5  20.221431   1184      1  9.334184      2      1   \n",
       "2      0    126      2  26.477532   2975      1  9.021806      1      1   \n",
       "3      2    209      4  13.445450   1067      1  1.814993      0      1   \n",
       "4      5    268      1  25.065894   1336      1  1.639130      1      1   \n",
       "\n",
       "   test_output  \n",
       "0    77.585134  \n",
       "1    56.960109  \n",
       "2    60.053236  \n",
       "3    59.050772  \n",
       "4    82.868685  "
      ]
     },
     "execution_count": 49,
     "metadata": {},
     "output_type": "execute_result"
    }
   ],
   "source": [
    "lrts['test_output']=test_output\n",
    "lrts.head()"
   ]
  }
 ],
 "metadata": {
  "kernelspec": {
   "display_name": "Python 3",
   "language": "python",
   "name": "python3"
  },
  "language_info": {
   "codemirror_mode": {
    "name": "ipython",
    "version": 3
   },
   "file_extension": ".py",
   "mimetype": "text/x-python",
   "name": "python",
   "nbconvert_exporter": "python",
   "pygments_lexer": "ipython3",
   "version": "3.8.3"
  }
 },
 "nbformat": 4,
 "nbformat_minor": 4
}
